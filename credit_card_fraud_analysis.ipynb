{
 "cells": [
  {
   "cell_type": "markdown",
   "metadata": {},
   "source": [
    "# Credit Card Fraud Detection with Machine Learning Models\n",
    "\n",
    "## Ian Heung\n",
    "\n",
    "In this project, I will use a dataset from Kaggle and develop machine learning models to determine whether a transaction is fraudulent or not. The dataset is highly unbalanced, with the number of fraud cases only accounting for **only 0.172%** of transactions. I will navigate the challenge of the class imbalance in the dataset and develop machine learning models for accurate classification of the transactions."
   ]
  },
  {
   "cell_type": "markdown",
   "metadata": {},
   "source": []
  },
  {
   "cell_type": "code",
   "execution_count": null,
   "metadata": {},
   "outputs": [],
   "source": [
    "#"
   ]
  },
  {
   "cell_type": "markdown",
   "metadata": {},
   "source": []
  }
 ],
 "metadata": {
  "language_info": {
   "name": "python"
  }
 },
 "nbformat": 4,
 "nbformat_minor": 2
}
